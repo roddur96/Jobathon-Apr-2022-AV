{
 "cells": [
  {
   "cell_type": "code",
   "execution_count": 1,
   "metadata": {},
   "outputs": [],
   "source": [
    "import matplotlib.pyplot as plt\n",
    "import pandas as pd\n",
    "import numpy as np\n",
    "import seaborn as sns\n",
    "from datetime import datetime\n",
    "from sklearn.preprocessing import LabelEncoder\n",
    "from sklearn.model_selection import train_test_split\n",
    "from sklearn import metrics\n",
    "from sklearn.linear_model import LinearRegression\n",
    "import optuna\n",
    "from catboost import CatBoostRegressor\n",
    "import warnings\n",
    "warnings.filterwarnings('always')\n",
    "warnings.filterwarnings('ignore')"
   ]
  },
  {
   "cell_type": "code",
   "execution_count": 2,
   "metadata": {},
   "outputs": [],
   "source": [
    "train = pd.read_csv(\"train_E1GspfA.csv\")\n",
    "test = pd.read_csv(\"test_6QvDdzb.csv\")"
   ]
  },
  {
   "cell_type": "code",
   "execution_count": 3,
   "metadata": {},
   "outputs": [],
   "source": [
    "import holidays\n",
    "holiday=[]\n",
    "for year in range(2018,2022):\n",
    "    for date in holidays.India(years=year).items():\n",
    "        holiday.append(date[0])\n",
    "    "
   ]
  },
  {
   "cell_type": "code",
   "execution_count": 4,
   "metadata": {},
   "outputs": [],
   "source": [
    "train['date'] =train['date'].apply( lambda row:datetime.strptime(row ,\"%Y-%m-%d\"))\n",
    "test['date'] =test['date'].apply( lambda row:datetime.strptime(row ,\"%Y-%m-%d\"))"
   ]
  },
  {
   "cell_type": "code",
   "execution_count": 5,
   "metadata": {},
   "outputs": [],
   "source": [
    "def create_features(df, label=None):\n",
    "    df['month'] = df['date'].dt.month\n",
    "    df['dayofmonth'] = df['date'].dt.day\n",
    "    df[\"dayofweek\"]= df[\"date\"].dt.weekday\n",
    "    df['year'] = df['date'].dt.year\n",
    "    X = df[['date','year','month','dayofmonth','dayofweek','hour']]\n",
    "    if label:\n",
    "        y = df[label]\n",
    "        return X, y\n",
    "    return X \n",
    "\n",
    "X_train_b, y_train_b = create_features(train, label='demand')\n",
    "X_test = create_features(test, label=None)\n",
    "pred=['year','month','dayofmonth','dayofweek','hour','isholiday']\n",
    "\n",
    "\n",
    "X_train_b['isholiday']=np.where(X_train_b.date.isin(holiday),1,0)\n",
    "X_test['isholiday']=np.where(X_test.date.isin(holiday),1,0)\n",
    "X_train_b['isholiday'] =np.where( X_train_b['isholiday'] | X_train_b['dayofweek'].isin([5,6]),1,0)\n",
    "X_test['isholiday'] =np.where( X_test['isholiday'] | X_test['dayofweek'].isin([5,6]),1,0)\n",
    "\n",
    "\n"
   ]
  },
  {
   "cell_type": "code",
   "execution_count": 31,
   "metadata": {},
   "outputs": [],
   "source": [
    "X_train,X_valid,y_train,y_valid = train_test_split(X_train_b, y_train_b,test_size=0.3,random_state=22)"
   ]
  },
  {
   "cell_type": "code",
   "execution_count": 7,
   "metadata": {},
   "outputs": [
    {
     "data": {
      "image/png": "[encoded data removed]",
      "text/plain": [
       "<Figure size 432x288 with 1 Axes>"
      ]
     },
     "metadata": {
      "needs_background": "light"
     },
     "output_type": "display_data"
    }
   ],
   "source": [
    "\n",
    "ax = sns.boxplot(x=\"hour\", y=y_train, #hue=\"isholiday\",\n",
    "                 data=X_train[X_train.isholiday==0], palette=\"Set3\")"
   ]
  },
  {
   "cell_type": "code",
   "execution_count": 32,
   "metadata": {},
   "outputs": [
    {
     "name": "stdout",
     "output_type": "stream",
     "text": [
      "1 36.703582069829814\n",
      "2 35.41313093622728\n",
      "3 34.65335022148058\n",
      "4 34.139331832817454\n",
      "5 33.677695997147644\n",
      "6 33.50498687047225\n",
      "7 33.16370792259633\n",
      "8 33.074255807564825\n",
      "9 33.12975488263247\n",
      "10 33.53515867059039\n",
      "11 33.54050925040977\n",
      "12 33.64310669712602\n",
      "13 33.85304037906566\n",
      "14 34.00749458164542\n",
      "15 34.187660018487335\n",
      "16 34.48705011665652\n",
      "17 34.53522296600245\n",
      "18 34.56024654064689\n"
     ]
    }
   ],
   "source": [
    "import xgboost as xgb\n",
    "from sklearn.model_selection import cross_val_score\n",
    "for i in range(1,19):\n",
    "    model =xgb.XGBRegressor( learning_rate = .5/i, max_depth = i, alpha = 10, n_estimators=100, booster='gbtree')\n",
    "    \n",
    "    pred=['month','dayofmonth','dayofweek','hour','isholiday']\n",
    "    X =X_train[pred]\n",
    "    x_v =X_valid[pred ]\n",
    "    model.fit(X,y_train)\n",
    "    y_pred = model.predict(x_v)\n",
    "    MSE= metrics.mean_squared_error(y_valid,y_pred)\n",
    "    rmse = np.sqrt(MSE)\n",
    "    print(i , rmse)\n",
    "    \n"
   ]
  },
  {
   "cell_type": "code",
   "execution_count": 33,
   "metadata": {},
   "outputs": [
    {
     "data": {
      "text/plain": [
       "XGBRegressor(alpha=10, base_score=0.5, booster='gbtree', callbacks=None,\n",
       "             colsample_bylevel=1, colsample_bynode=1, colsample_bytree=1,\n",
       "             early_stopping_rounds=None, enable_categorical=False,\n",
       "             eval_metric=None, gamma=0, gpu_id=-1, grow_policy='depthwise',\n",
       "             importance_type=None, interaction_constraints='',\n",
       "             learning_rate=0.0625, max_bin=256, max_cat_to_onehot=4,\n",
       "             max_delta_step=0, max_depth=8, max_leaves=0, min_child_weight=1,\n",
       "             missing=nan, monotone_constraints='()', n_estimators=100, n_jobs=0,\n",
       "             num_parallel_tree=1, predictor='auto', random_state=0,\n",
       "             reg_alpha=10, ...)"
      ]
     },
     "execution_count": 33,
     "metadata": {},
     "output_type": "execute_result"
    }
   ],
   "source": [
    "i=8\n",
    "model =xgb.XGBRegressor( learning_rate = .5/i, max_depth = i, alpha = 10, n_estimators=100, booster='gbtree')\n",
    "\n",
    "model.fit(X_train_b[pred],y_train_b)"
   ]
  },
  {
   "cell_type": "code",
   "execution_count": 34,
   "metadata": {},
   "outputs": [],
   "source": [
    "sub = X_test.copy()\n",
    "sub['demand'] = np.round(model.predict(X_test[pred].copy()))\n",
    "sub[['date','hour','demand']].to_csv('mysub_cat_xgb.csv' , index=False)"
   ]
  },
  {
   "cell_type": "code",
   "execution_count": null,
   "metadata": {},
   "outputs": [],
   "source": []
  }
 ],
 "metadata": {
  "kernelspec": {
   "display_name": "Python 3",
   "language": "python",
   "name": "python3"
  },
  "language_info": {
   "codemirror_mode": {
    "name": "ipython",
    "version": 3
   },
   "file_extension": ".py",
   "mimetype": "text/x-python",
   "name": "python",
   "nbconvert_exporter": "python",
   "pygments_lexer": "ipython3",
   "version": "3.7.6"
  }
 },
 "nbformat": 4,
 "nbformat_minor": 4
}
